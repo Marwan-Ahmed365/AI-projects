{
 "cells": [
  {
   "cell_type": "markdown",
   "id": "e984aeb9",
   "metadata": {},
   "source": [
    "# Dataset Description\n",
    "\n",
    "\n",
    "- train.csv: A full training dataset with the following attributes\n",
    "\n",
    "    id: unique id for a news article\n",
    "\n",
    "    title: the title of a news article\n",
    "    \n",
    "    author: author of the news article\n",
    "\n",
    "    text: the text of the article; could be incomplete\n",
    "\n",
    "    label: a label that marks the article as potentially unreliable\n",
    "\n",
    "        1: unreliable\n",
    "        0: reliable\n",
    "\n",
    "test.csv: A testing dataset with all the same attributes at train.csv without the label "
   ]
  },
  {
   "cell_type": "markdown",
   "id": "fbf37fad",
   "metadata": {},
   "source": [
    "#  Importing the Dependencieses\n"
   ]
  },
  {
   "cell_type": "code",
   "execution_count": null,
   "id": "ad61b71e",
   "metadata": {},
   "outputs": [],
   "source": [
    "import pandas as pd\n",
    "import numpy as np\n",
    "import re\n",
    "from matplotlib import pyplot as plt\n",
    "import seaborn as sns\n",
    "%matplotlib inline\n",
    "\n",
    "import nltk\n",
    "from nltk.corpus import stopwords\n",
    "from nltk.stem.porter import PorterStemmer\n",
    "\n",
    "from sklearn.feature_extraction.text import TfidfVectorizer\n",
    "from sklearn.feature_extraction.text import CountVectorizer\n",
    "from sklearn.feature_extraction.text import TfidfTransformer\n",
    "\n",
    "from sklearn.model_selection import train_test_split, cross_val_score\n",
    "from sklearn.metrics import confusion_matrix, classification_report, roc_curve, auc, RocCurveDisplay\n",
    "from sklearn.linear_model import LogisticRegression\n",
    "from sklearn.ensemble import RandomForestClassifier\n",
    "from sklearn.tree import DecisionTreeClassifier\n",
    "from sklearn.neighbors import KNeighborsClassifier\n",
    "from sklearn.svm import SVC\n",
    "from sklearn.naive_bayes import MultinomialNB\n",
    "\n",
    "from tpot import TPOTClassifier\n",
    "from pycaret.classification import *\n",
    "\n",
    "\n",
    "\n",
    "import warnings\n",
    "warnings.filterwarnings(\"ignore\")\n"
   ]
  },
  {
   "cell_type": "code",
   "execution_count": null,
   "id": "31d11db9",
   "metadata": {},
   "outputs": [],
   "source": [
    "nltk.download('stopwords')"
   ]
  },
  {
   "cell_type": "code",
   "execution_count": null,
   "id": "55b896a9",
   "metadata": {},
   "outputs": [],
   "source": [
    "print (stopwords.words('english'))"
   ]
  },
  {
   "cell_type": "markdown",
   "id": "0c19f0e0",
   "metadata": {},
   "source": [
    "# Exploratory Data Analysis¶\n"
   ]
  },
  {
   "cell_type": "code",
   "execution_count": null,
   "id": "9bb7f9f1",
   "metadata": {
    "scrolled": true
   },
   "outputs": [],
   "source": [
    "train_news = pd.read_csv('train.csv')\n",
    "train_news.head()"
   ]
  },
  {
   "cell_type": "code",
   "execution_count": null,
   "id": "df2ee59e",
   "metadata": {
    "scrolled": true
   },
   "outputs": [],
   "source": [
    "test_news = pd.read_csv('test.csv')\n",
    "test_news.head()"
   ]
  },
  {
   "cell_type": "code",
   "execution_count": null,
   "id": "3d8b1aa9",
   "metadata": {},
   "outputs": [],
   "source": [
    "train_news.shape"
   ]
  },
  {
   "cell_type": "code",
   "execution_count": null,
   "id": "340fa035",
   "metadata": {},
   "outputs": [],
   "source": [
    "test_news.shape\n"
   ]
  },
  {
   "cell_type": "markdown",
   "id": "2a7f8a36",
   "metadata": {},
   "source": [
    "- stropwords are those words which dosen't add much value to a paragraph or text can be the words such as (the, a , you , where, what ,when, etc...)\n",
    "\n"
   ]
  },
  {
   "cell_type": "code",
   "execution_count": null,
   "id": "2a0974af",
   "metadata": {
    "scrolled": true
   },
   "outputs": [],
   "source": [
    "train_news.isnull().sum()\n"
   ]
  },
  {
   "cell_type": "code",
   "execution_count": null,
   "id": "03d0f2da",
   "metadata": {
    "scrolled": true
   },
   "outputs": [],
   "source": [
    "test_news.isnull().sum()\n"
   ]
  },
  {
   "cell_type": "markdown",
   "id": "e13863e1",
   "metadata": {},
   "source": [
    "# Data Pre-processing\n"
   ]
  },
  {
   "cell_type": "code",
   "execution_count": null,
   "id": "c80f2d3f",
   "metadata": {},
   "outputs": [],
   "source": [
    "# replacing the null values with empty string\n",
    "train_news = train_news.fillna(' ')\n",
    "test_news = test_news.fillna(' ')"
   ]
  },
  {
   "cell_type": "code",
   "execution_count": null,
   "id": "f8c56eac",
   "metadata": {},
   "outputs": [],
   "source": [
    "# merging the author name and news title\n",
    "train_news['content'] = train_news['author']+' '+train_news['title']\n",
    "test_news['content'] = test_news['author']+' '+test_news['title']"
   ]
  },
  {
   "cell_type": "code",
   "execution_count": null,
   "id": "2d773d7c",
   "metadata": {
    "scrolled": false
   },
   "outputs": [],
   "source": [
    "print(train_news['content'])"
   ]
  },
  {
   "cell_type": "code",
   "execution_count": null,
   "id": "deda1f58",
   "metadata": {
    "scrolled": true
   },
   "outputs": [],
   "source": [
    "print(test_news['content'])"
   ]
  },
  {
   "cell_type": "markdown",
   "id": "ed7bf2d6",
   "metadata": {},
   "source": [
    "# Stemming:\n",
    "\n",
    "Stemming is the process of reducing a word to its Root word\n",
    "\n",
    "example:\n",
    "actor, actress, acting --> act"
   ]
  },
  {
   "cell_type": "code",
   "execution_count": null,
   "id": "7a9712f8",
   "metadata": {},
   "outputs": [],
   "source": [
    "port_stem = PorterStemmer()"
   ]
  },
  {
   "cell_type": "code",
   "execution_count": null,
   "id": "2628cc8d",
   "metadata": {},
   "outputs": [],
   "source": [
    "def stemming(content):\n",
    "    stemmed_content = re.sub('^a-zA-Z', ' ', content)\n",
    "    stemmed_content = stemmed_content.lower()\n",
    "    stemmed_content = stemmed_content.split()\n",
    "    stemmed_content = [port_stem.stem(word) for word in stemmed_content if not word in stopwords.words('english')]\n",
    "    stemmed_content = ' '.join(stemmed_content)\n",
    "    return stemmed_content"
   ]
  },
  {
   "cell_type": "code",
   "execution_count": null,
   "id": "b492eda8",
   "metadata": {},
   "outputs": [],
   "source": [
    "train_news['content'] = train_news['content'].apply(stemming)\n",
    "test_news['content'] = test_news['content'].apply(stemming)\n"
   ]
  },
  {
   "cell_type": "code",
   "execution_count": null,
   "id": "dbe67a4d",
   "metadata": {},
   "outputs": [],
   "source": [
    "print(train_news['content'])"
   ]
  },
  {
   "cell_type": "code",
   "execution_count": null,
   "id": "698b028d",
   "metadata": {},
   "outputs": [],
   "source": [
    "print(test_news['content'])"
   ]
  },
  {
   "cell_type": "code",
   "execution_count": null,
   "id": "bc9bb8d4",
   "metadata": {},
   "outputs": [],
   "source": [
    "#separating the data and label\n",
    "X = train_news['content'].values\n",
    "Y = train_news['label'].values\n"
   ]
  },
  {
   "cell_type": "code",
   "execution_count": null,
   "id": "7a2b9532",
   "metadata": {},
   "outputs": [],
   "source": [
    "print(X)\n"
   ]
  },
  {
   "cell_type": "code",
   "execution_count": null,
   "id": "6d36a22d",
   "metadata": {},
   "outputs": [],
   "source": [
    "print(Y)"
   ]
  },
  {
   "cell_type": "code",
   "execution_count": null,
   "id": "90848e89",
   "metadata": {},
   "outputs": [],
   "source": [
    "Y.shape"
   ]
  },
  {
   "cell_type": "markdown",
   "id": "7916b393",
   "metadata": {},
   "source": [
    "# Converting the Textual Data to Numerical Data\n"
   ]
  },
  {
   "cell_type": "code",
   "execution_count": null,
   "id": "2e75ef0b",
   "metadata": {},
   "outputs": [],
   "source": [
    "transformer = TfidfTransformer(smooth_idf=False)\n",
    "count_vectorizer = CountVectorizer(ngram_range=(1, 2))\n",
    "counts = count_vectorizer.fit_transform(train_news['content'].values)\n",
    "X = transformer.fit_transform(counts)"
   ]
  },
  {
   "cell_type": "code",
   "execution_count": null,
   "id": "73363ab0",
   "metadata": {},
   "outputs": [],
   "source": [
    "Y = train_news['label'].values\n",
    "test_counts = count_vectorizer.transform(test_news['content'].values)\n",
    "test_tfidf = transformer.fit_transform(test_counts)"
   ]
  },
  {
   "cell_type": "code",
   "execution_count": null,
   "id": "07fa7b30",
   "metadata": {
    "scrolled": true
   },
   "outputs": [],
   "source": [
    "print(X)"
   ]
  },
  {
   "cell_type": "code",
   "execution_count": null,
   "id": "36027286",
   "metadata": {},
   "outputs": [],
   "source": [
    "X.shape"
   ]
  },
  {
   "cell_type": "code",
   "execution_count": null,
   "id": "3b8348aa",
   "metadata": {
    "scrolled": true
   },
   "outputs": [],
   "source": [
    "print(test_tfidf)"
   ]
  },
  {
   "cell_type": "code",
   "execution_count": null,
   "id": "e4733d84",
   "metadata": {},
   "outputs": [],
   "source": [
    "test_tfidf.shape"
   ]
  },
  {
   "cell_type": "markdown",
   "id": "2ff8545d",
   "metadata": {},
   "source": [
    "# Spliting the data into training and testing data\n"
   ]
  },
  {
   "cell_type": "code",
   "execution_count": null,
   "id": "8f013dd4",
   "metadata": {},
   "outputs": [],
   "source": [
    "X_train, X_test, Y_train, Y_test = train_test_split(X, Y, test_size = 0.2, stratify=Y, random_state=42)"
   ]
  },
  {
   "cell_type": "code",
   "execution_count": null,
   "id": "c0f6af44",
   "metadata": {},
   "outputs": [],
   "source": [
    "print(f\"Number of Training dataset: {X_train.shape[0]}\\nNumber of Testing dataset: {X_test.shape[0]}\")\n"
   ]
  },
  {
   "cell_type": "code",
   "execution_count": null,
   "id": "6d1d6777",
   "metadata": {},
   "outputs": [],
   "source": [
    "def kfolds(model, model_name):\n",
    "    model = cross_val_score(model, X,Y, cv=10)\n",
    "    model_score = np.average(model)\n",
    "    print(f\"{model_name} score on cross validation: {model_score * 100}%\")\n",
    "\n",
    "def train(model, model_name):\n",
    "    model.fit(X_train, Y_train)\n",
    "    model_train_score = model.score(X_train, Y_train)\n",
    "    model_test_score = model.score(X_test, Y_test)\n",
    "    print(f\"{model_name} model score on Training data: {model_train_score * 100}%\\n{model_name} model score on Testing data: {model_test_score * 100}%\")\n",
    "\n",
    "def conf_matrix(model):\n",
    "    Y_pred = model.predict(X_test)\n",
    "    cm = confusion_matrix(Y_test, Y_pred)\n",
    "    plt.figure(figsize=(8,5))\n",
    "    sns.heatmap(cm, annot=True, fmt='.2f');\n",
    "    \n",
    "def class_report(model):\n",
    "    Y_pred = model.predict(X_test)\n",
    "    print(classification_report(Y_test, Y_pred))\n",
    "    \n",
    "def roc(model, model_name):\n",
    "    Y_pred_svm = model.decision_function(X_test)\n",
    "    svm_fpr, svm_tpr, _ = roc_curve(Y_test, Y_pred_svm)\n",
    "    auc_svm = auc(svm_fpr, svm_tpr)\n",
    "    plt.figure(figsize=(5, 5), dpi=100)\n",
    "    plt.plot(svm_fpr, svm_tpr, color=\"darkorange\", label=f'{model_name} (auc = %0.3f)' % auc_svm)\n",
    "    plt.plot([0, 1], [0, 1], color=\"navy\", lw=2, linestyle=\"--\")\n",
    "    plt.xlabel('False Positive Rate -->')\n",
    "    plt.ylabel('True Positive Rate -->')\n",
    "    plt.legend()\n",
    "    plt.show()"
   ]
  },
  {
   "cell_type": "markdown",
   "id": "e4ab67e3",
   "metadata": {},
   "source": [
    "# Logistic Regression\n"
   ]
  },
  {
   "cell_type": "code",
   "execution_count": null,
   "id": "5fda7ec6",
   "metadata": {},
   "outputs": [],
   "source": [
    "log_model = LogisticRegression()\n",
    "train(log_model, \"Logistic Regression\")"
   ]
  },
  {
   "cell_type": "code",
   "execution_count": null,
   "id": "f1798298",
   "metadata": {
    "scrolled": false
   },
   "outputs": [],
   "source": [
    "conf_matrix(log_model)"
   ]
  },
  {
   "cell_type": "code",
   "execution_count": null,
   "id": "431cb511",
   "metadata": {},
   "outputs": [],
   "source": [
    "class_report(log_model)"
   ]
  },
  {
   "cell_type": "code",
   "execution_count": null,
   "id": "0bea32f1",
   "metadata": {
    "scrolled": false
   },
   "outputs": [],
   "source": [
    "roc(log_model, 'Logistic_Regression')"
   ]
  },
  {
   "cell_type": "markdown",
   "id": "c65ad1d8",
   "metadata": {},
   "source": [
    "# SVM Model¶\n"
   ]
  },
  {
   "cell_type": "code",
   "execution_count": null,
   "id": "d2f756a3",
   "metadata": {},
   "outputs": [],
   "source": [
    "svm_model = SVC()\n",
    "train(svm_model, 'SV_classifier')"
   ]
  },
  {
   "cell_type": "code",
   "execution_count": null,
   "id": "111fc7c5",
   "metadata": {},
   "outputs": [],
   "source": [
    "conf_matrix(svm_model)\n"
   ]
  },
  {
   "cell_type": "code",
   "execution_count": null,
   "id": "c5c65979",
   "metadata": {},
   "outputs": [],
   "source": [
    "class_report(svm_model)"
   ]
  },
  {
   "cell_type": "code",
   "execution_count": null,
   "id": "efc7916f",
   "metadata": {},
   "outputs": [],
   "source": [
    "roc(svm_model, 'SV_classifier')"
   ]
  },
  {
   "cell_type": "markdown",
   "id": "c3182b95",
   "metadata": {},
   "source": [
    "# Decision Tree Classifier Model¶\n"
   ]
  },
  {
   "cell_type": "code",
   "execution_count": null,
   "id": "b380c6c8",
   "metadata": {},
   "outputs": [],
   "source": [
    "dt_model = DecisionTreeClassifier()\n",
    "kfolds(dt_model, \"Decision_Tree\")\n",
    "train(dt_model, \"Decision_Tree\")"
   ]
  },
  {
   "cell_type": "code",
   "execution_count": null,
   "id": "a94c4424",
   "metadata": {},
   "outputs": [],
   "source": [
    "conf_matrix(dt_model)\n"
   ]
  },
  {
   "cell_type": "code",
   "execution_count": null,
   "id": "2c41c834",
   "metadata": {},
   "outputs": [],
   "source": [
    "class_report(dt_model)\n"
   ]
  },
  {
   "cell_type": "markdown",
   "id": "35774f46",
   "metadata": {},
   "source": [
    "# Random Forest Classifier¶\n"
   ]
  },
  {
   "cell_type": "code",
   "execution_count": null,
   "id": "45c8a69f",
   "metadata": {},
   "outputs": [],
   "source": [
    "rf_model = RandomForestClassifier()\n",
    "train(rf_model, \"Random_Forest\")"
   ]
  },
  {
   "cell_type": "code",
   "execution_count": null,
   "id": "f8fb2e15",
   "metadata": {},
   "outputs": [],
   "source": [
    "conf_matrix(rf_model)\n"
   ]
  },
  {
   "cell_type": "code",
   "execution_count": null,
   "id": "7d7bfd02",
   "metadata": {},
   "outputs": [],
   "source": [
    "class_report(rf_model)\n"
   ]
  },
  {
   "cell_type": "markdown",
   "id": "28205405",
   "metadata": {},
   "source": [
    "# K-nearest neighbors"
   ]
  },
  {
   "cell_type": "code",
   "execution_count": null,
   "id": "71dcba37",
   "metadata": {},
   "outputs": [],
   "source": [
    "knn = KNeighborsClassifier()\n",
    "train(knn, \"KNN\")"
   ]
  },
  {
   "cell_type": "code",
   "execution_count": null,
   "id": "d35f3f5f",
   "metadata": {},
   "outputs": [],
   "source": [
    "conf_matrix(knn)\n"
   ]
  },
  {
   "cell_type": "code",
   "execution_count": null,
   "id": "d2df2d78",
   "metadata": {},
   "outputs": [],
   "source": [
    "class_report(knn)\n"
   ]
  },
  {
   "cell_type": "markdown",
   "id": "9cf83c2c",
   "metadata": {},
   "source": [
    "# Naive Bayes\n"
   ]
  },
  {
   "cell_type": "code",
   "execution_count": null,
   "id": "c9604223",
   "metadata": {},
   "outputs": [],
   "source": [
    "naive_bayes = MultinomialNB()\n",
    "kfolds(naive_bayes, \"Naive_Bayes\")\n",
    "train(naive_bayes, \"Naive_Bayes\")"
   ]
  },
  {
   "cell_type": "code",
   "execution_count": null,
   "id": "a31d24bf",
   "metadata": {},
   "outputs": [],
   "source": [
    "conf_matrix(naive_bayes)\n"
   ]
  },
  {
   "cell_type": "code",
   "execution_count": null,
   "id": "d201c864",
   "metadata": {},
   "outputs": [],
   "source": [
    "class_report(naive_bayes)\n"
   ]
  },
  {
   "cell_type": "markdown",
   "id": "6d507c6c",
   "metadata": {},
   "source": [
    "# Automated ML\n"
   ]
  },
  {
   "cell_type": "code",
   "execution_count": null,
   "id": "3a60f291",
   "metadata": {},
   "outputs": [],
   "source": [
    "# autoML = TPOTClassifier(generations=10, population_size=200, cv=20, verbosity=2, config_dict = 'TPOT sparse')\n",
    "# train(autoML, \"Automated ML\")\n"
   ]
  },
  {
   "cell_type": "code",
   "execution_count": null,
   "id": "d11c70f5",
   "metadata": {},
   "outputs": [],
   "source": [
    "# conf_matrix(autoML)\n"
   ]
  },
  {
   "cell_type": "code",
   "execution_count": null,
   "id": "7f6fd40f",
   "metadata": {},
   "outputs": [],
   "source": [
    "# class_report(autoML)\n"
   ]
  },
  {
   "cell_type": "code",
   "execution_count": null,
   "id": "1c61dcf7",
   "metadata": {},
   "outputs": [],
   "source": [
    "# tp(autoML, \"Automated Machine Learning\")\n"
   ]
  },
  {
   "cell_type": "code",
   "execution_count": null,
   "id": "48f9c05c",
   "metadata": {},
   "outputs": [],
   "source": [
    "autoML = setup(X, target=Y)\n",
    "best = compare_models()"
   ]
  },
  {
   "cell_type": "code",
   "execution_count": null,
   "id": "96cbde5e",
   "metadata": {},
   "outputs": [],
   "source": [
    "print(best)"
   ]
  },
  {
   "cell_type": "code",
   "execution_count": null,
   "id": "7205f0c9",
   "metadata": {},
   "outputs": [],
   "source": [
    "evaluate_model(best)"
   ]
  },
  {
   "cell_type": "code",
   "execution_count": null,
   "id": "2bc446ac",
   "metadata": {},
   "outputs": [],
   "source": [
    "plot_model(best, plot = 'confusion_matrix')"
   ]
  },
  {
   "cell_type": "markdown",
   "id": "067fd0b6",
   "metadata": {},
   "source": [
    "### Logistic Regression Prediction\n",
    "\n",
    "\n",
    "\n"
   ]
  },
  {
   "cell_type": "code",
   "execution_count": null,
   "id": "59f126f1",
   "metadata": {},
   "outputs": [],
   "source": [
    "# Make predictions --> Logistic Regression\n",
    "predictions = log_model.predict(test_tfidf)\n",
    "# Submissions\n",
    "test_ID = test_news.id\n",
    "submission = pd.DataFrame({'id' : test_ID, 'label' : predictions})"
   ]
  },
  {
   "cell_type": "markdown",
   "id": "756d1e55",
   "metadata": {},
   "source": [
    "- The submission file will consist of the ID column and a label column. We can just copy the ID column from the test file, make it a dataframe, and then add our label column.\n",
    "\n"
   ]
  },
  {
   "cell_type": "code",
   "execution_count": null,
   "id": "f28c43e5",
   "metadata": {},
   "outputs": [],
   "source": [
    "# submission = test_news.id.copy().to_frame()\n",
    "# submission['prediction'] = predictions"
   ]
  },
  {
   "cell_type": "code",
   "execution_count": null,
   "id": "040d0644",
   "metadata": {},
   "outputs": [],
   "source": [
    "submission.head()\n"
   ]
  },
  {
   "cell_type": "code",
   "execution_count": null,
   "id": "6a1be31d",
   "metadata": {},
   "outputs": [],
   "source": [
    "submission.to_csv(\"./Logistic Regression.csv\", index=False) # Convert the submissions to .csv\n"
   ]
  },
  {
   "cell_type": "markdown",
   "id": "4e0efe2e",
   "metadata": {},
   "source": [
    "### dt Prediction\n",
    "\n"
   ]
  },
  {
   "cell_type": "code",
   "execution_count": null,
   "id": "39bed226",
   "metadata": {},
   "outputs": [],
   "source": [
    "# Make predictions --> \n",
    "predictions = dt_model.predict(test_tfidf)\n",
    "# Submissions\n",
    "test_ID = test_news.id\n",
    "dt_submission = pd.DataFrame({'id' : test_ID, 'label' : predictions})"
   ]
  },
  {
   "cell_type": "code",
   "execution_count": null,
   "id": "c0cdd876",
   "metadata": {},
   "outputs": [],
   "source": [
    "\n",
    "dt_submission.head()\n"
   ]
  },
  {
   "cell_type": "code",
   "execution_count": null,
   "id": "aabe3d9b",
   "metadata": {},
   "outputs": [],
   "source": [
    "dt_submission.to_csv(\"./Decision Tree.csv\", index=False) # Convert the submissions to .csv\n"
   ]
  },
  {
   "cell_type": "code",
   "execution_count": null,
   "id": "f3bea9b0",
   "metadata": {},
   "outputs": [],
   "source": []
  }
 ],
 "metadata": {
  "kernelspec": {
   "display_name": "Python 3 (ipykernel)",
   "language": "python",
   "name": "python3"
  },
  "language_info": {
   "codemirror_mode": {
    "name": "ipython",
    "version": 3
   },
   "file_extension": ".py",
   "mimetype": "text/x-python",
   "name": "python",
   "nbconvert_exporter": "python",
   "pygments_lexer": "ipython3",
   "version": "3.10.6"
  }
 },
 "nbformat": 4,
 "nbformat_minor": 5
}
